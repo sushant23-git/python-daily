{
  "nbformat": 4,
  "nbformat_minor": 0,
  "metadata": {
    "colab": {
      "provenance": []
    },
    "kernelspec": {
      "name": "python3",
      "display_name": "Python 3"
    }
  },
  "cells": [
    {
      "cell_type": "code",
      "source": [
        "def encrypt(text,s):\n",
        "\tresult = \"\"\n",
        "\n",
        "\tfor i in range(len(text)):\n",
        "\t\tchar = text[i]\n",
        "\n",
        "\t\tif (char.isupper()):\n",
        "\t\t\tresult += chr((ord(char) + s-65) % 26 + 65)\n",
        "\n",
        "\t\telse:\n",
        "\t\t\tresult += chr((ord(char) + s - 97) % 26 + 97)\n",
        "\n",
        "\treturn result\n",
        "\n",
        "def decode(text,s):\n",
        "\tresult = \"\"\n",
        "\n",
        "\tfor i in range(len(text)):\n",
        "\t\tchar = text[i]\n",
        "\n",
        "\t\tif (char.isupper()):\n",
        "\t\t\tresult += chr((ord(char) - s-65) % 26 + 65)\n",
        "\n",
        "\t\telse:\n",
        "\t\t\tresult += chr((ord(char) - s - 97) % 26 + 97)\n",
        "\n",
        "\treturn result\n",
        "\n",
        "mode=input(\"encode or decode?\")\n",
        "text = input(\"Enter the word: \")\n",
        "s = 4\n",
        "print (\"Text : \" + text)\n",
        "print (\"Shift : \" + str(s))\n",
        "if mode==\"encode\":\n",
        "  print (\"Cipher: \" + encrypt(text,s))\n",
        "elif mode==\"decode\":\n",
        "   print (\"Cipher: \" + encrypt(text,s))"
      ],
      "metadata": {
        "colab": {
          "base_uri": "https://localhost:8080/"
        },
        "id": "qy1JzmO3YTm6",
        "outputId": "db086890-6673-4427-d36a-4d8f86c8c453"
      },
      "execution_count": 7,
      "outputs": [
        {
          "output_type": "stream",
          "name": "stdout",
          "text": [
            "encode or decode?encode\n",
            "Enter the word: sushant\n",
            "Text : sushant\n",
            "Shift : 4\n",
            "Cipher: wywlerx\n"
          ]
        }
      ]
    }
  ]
}