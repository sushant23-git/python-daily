{
  "nbformat": 4,
  "nbformat_minor": 0,
  "metadata": {
    "colab": {
      "provenance": []
    },
    "kernelspec": {
      "name": "python3",
      "display_name": "Python 3"
    },
    "language_info": {
      "name": "python"
    }
  },
  "cells": [
    {
      "cell_type": "code",
      "execution_count": 3,
      "metadata": {
        "colab": {
          "base_uri": "https://localhost:8080/"
        },
        "id": "6ASf0jj742E7",
        "outputId": "99e64711-51e0-4f9b-bd2d-c33a70b23891"
      },
      "outputs": [
        {
          "output_type": "stream",
          "name": "stdout",
          "text": [
            "Welcome to the band name generator.\n",
            "\n",
            "What's name of the city you grew up in?\n",
            "nagpur\n",
            "What's your pet's name?\n",
            "lucy\n",
            "Your band name is nagpur lucy\n"
          ]
        }
      ],
      "source": [
        "print(\"Welcome to the band name generator.\\n\")\n",
        "city=input(\"What's name of the city you grew up in?\\n\")\n",
        "pet=input(\"What's your pet's name?\\n\")\n",
        "print(\"Your band name is \"+ city +\" \"+ pet)"
      ]
    }
  ]
}