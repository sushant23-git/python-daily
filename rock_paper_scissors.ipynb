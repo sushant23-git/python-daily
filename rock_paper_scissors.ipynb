{
  "nbformat": 4,
  "nbformat_minor": 0,
  "metadata": {
    "colab": {
      "provenance": []
    },
    "kernelspec": {
      "name": "python3",
      "display_name": "Python 3"
    },
    "language_info": {
      "name": "python"
    }
  },
  "cells": [
    {
      "cell_type": "code",
      "execution_count": 5,
      "metadata": {
        "colab": {
          "base_uri": "https://localhost:8080/"
        },
        "id": "aXGjI5ZbW_Oe",
        "outputId": "8d9b73f2-9bed-4379-ca62-4aa6dceb8b85"
      },
      "outputs": [
        {
          "output_type": "stream",
          "name": "stdout",
          "text": [
            "What do you choose? Type 0 for rock, 1 for paper and 2 for scissors \n",
            "0\n",
            "\n",
            "    _______\n",
            "---'   ____)\n",
            "      (_____)\n",
            "      (_____)\n",
            "      (____)\n",
            "---.__(___)\n",
            "\n",
            "Computer chose: \n",
            "\n",
            "    _______\n",
            "---'   ____)\n",
            "      (_____)\n",
            "      (_____)\n",
            "      (____)\n",
            "---.__(___)\n",
            "\n",
            "It's a draw!\n"
          ]
        }
      ],
      "source": [
        "import random\n",
        "\n",
        "rock = '''\n",
        "    _______\n",
        "---'   ____)\n",
        "      (_____)\n",
        "      (_____)\n",
        "      (____)\n",
        "---.__(___)\n",
        "'''\n",
        "paper = '''\n",
        "    _______\n",
        "---'   ____)____\n",
        "          ______)\n",
        "          _______)\n",
        "         _______)\n",
        "---.__________)\n",
        "'''\n",
        "scissors = '''\n",
        "    _______\n",
        "---'   ____)____\n",
        "          ______)\n",
        "       __________)\n",
        "      (____)\n",
        "---.__(___)\n",
        "'''\n",
        "\n",
        "rps_art = [rock, paper, scissors]\n",
        "\n",
        "player_choice = int(input(\"What do you choose? Type 0 for rock, 1 for paper and 2 for scissors \\n\"))\n",
        "print(rps_art[player_choice])\n",
        "computer_choice = random.randint(0, 2)\n",
        "\n",
        "print(\"Computer chose: \")\n",
        "print(rps_art[computer_choice])\n",
        "\n",
        "if player_choice >= 3 or player_choice < 0:\n",
        "    print(\"Invalid choice. You lose.\")\n",
        "elif player_choice == 0 and computer_choice == 2: #Player chooses rock and computer chooses scissors\n",
        "    print(\"Rock beats scissors. You win!\")\n",
        "elif computer_choice > player_choice:\n",
        "    print(\"You lose!\")\n",
        "elif computer_choice < player_choice:\n",
        "    print(\"You win!\")\n",
        "elif computer_choice == player_choice:\n",
        "    print(\"It's a draw!\")"
      ]
    }
  ]
}