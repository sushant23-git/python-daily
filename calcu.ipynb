{
  "nbformat": 4,
  "nbformat_minor": 0,
  "metadata": {
    "colab": {
      "provenance": []
    },
    "kernelspec": {
      "name": "python3",
      "display_name": "Python 3"
    },
    "language_info": {
      "name": "python"
    }
  },
  "cells": [
    {
      "cell_type": "code",
      "execution_count": 3,
      "metadata": {
        "id": "AmHc6GRflxOa",
        "colab": {
          "base_uri": "https://localhost:8080/",
          "height": 696
        },
        "outputId": "5bb93e44-f3e7-4aea-9df0-29c265cda585"
      },
      "outputs": [
        {
          "output_type": "stream",
          "name": "stdout",
          "text": [
            "What is the first number?: 5\n",
            "+\n",
            "-\n",
            "*\n",
            "/\n",
            "Type a math operation: +\n",
            "What is the next number?: 4\n",
            "5.0 + 4.0 = 9.0\n",
            "Type 'y' to continue calculating with 9.0, type 'n' to exit or type 'new' for a brand new calculation\n",
            "Type y/n/new: y\n",
            "+\n",
            "-\n",
            "*\n",
            "/\n",
            "Type a math operation: -\n",
            "What is the next number?: 3\n",
            "9.0 - 3.0 = 6.0\n",
            "Type 'y' to continue calculating with 6.0, type 'n' to exit or type 'new' for a brand new calculation\n",
            "Type y/n/new: n\n",
            "\n",
            "Goodbye.\n"
          ]
        },
        {
          "output_type": "error",
          "ename": "NameError",
          "evalue": "ignored",
          "traceback": [
            "\u001b[0;31m---------------------------------------------------------------------------\u001b[0m",
            "\u001b[0;31mNameError\u001b[0m                                 Traceback (most recent call last)",
            "\u001b[0;32m<ipython-input-3-a6851689f7f3>\u001b[0m in \u001b[0;36m<cell line: 41>\u001b[0;34m()\u001b[0m\n\u001b[1;32m     39\u001b[0m     \u001b[0mrun\u001b[0m \u001b[0;34m=\u001b[0m \u001b[0;32mFalse\u001b[0m\u001b[0;34m\u001b[0m\u001b[0;34m\u001b[0m\u001b[0m\n\u001b[1;32m     40\u001b[0m     \u001b[0mprint\u001b[0m\u001b[0;34m(\u001b[0m\u001b[0;34m\"\\nGoodbye.\"\u001b[0m\u001b[0;34m)\u001b[0m\u001b[0;34m\u001b[0m\u001b[0;34m\u001b[0m\u001b[0m\n\u001b[0;32m---> 41\u001b[0;31m \u001b[0mcalculator\u001b[0m\u001b[0;34m(\u001b[0m\u001b[0;34m)\u001b[0m\u001b[0;34m\u001b[0m\u001b[0;34m\u001b[0m\u001b[0m\n\u001b[0m",
            "\u001b[0;32m<ipython-input-1-027f796dc5b9>\u001b[0m in \u001b[0;36mcalculator\u001b[0;34m()\u001b[0m\n\u001b[1;32m     14\u001b[0m \u001b[0;34m\u001b[0m\u001b[0m\n\u001b[1;32m     15\u001b[0m \u001b[0;32mdef\u001b[0m \u001b[0mcalculator\u001b[0m\u001b[0;34m(\u001b[0m\u001b[0;34m)\u001b[0m\u001b[0;34m:\u001b[0m\u001b[0;34m\u001b[0m\u001b[0;34m\u001b[0m\u001b[0m\n\u001b[0;32m---> 16\u001b[0;31m   \u001b[0mprint\u001b[0m\u001b[0;34m(\u001b[0m\u001b[0mlogo\u001b[0m\u001b[0;34m)\u001b[0m\u001b[0;34m\u001b[0m\u001b[0;34m\u001b[0m\u001b[0m\n\u001b[0m\u001b[1;32m     17\u001b[0m \u001b[0;34m\u001b[0m\u001b[0m\n\u001b[1;32m     18\u001b[0m   \u001b[0mnum1\u001b[0m \u001b[0;34m=\u001b[0m \u001b[0mfloat\u001b[0m\u001b[0;34m(\u001b[0m\u001b[0minput\u001b[0m\u001b[0;34m(\u001b[0m\u001b[0;34m\"What is the first number?: \"\u001b[0m\u001b[0;34m)\u001b[0m\u001b[0;34m)\u001b[0m\u001b[0;34m\u001b[0m\u001b[0;34m\u001b[0m\u001b[0m\n",
            "\u001b[0;31mNameError\u001b[0m: name 'logo' is not defined"
          ]
        }
      ],
      "source": [
        "def add(n1, n2):\n",
        "  return n1 + n2\n",
        "\n",
        "def subtract(n1, n2):\n",
        "  return n1 - n2\n",
        "\n",
        "def multiply(n1, n2):\n",
        "  return n1 * n2\n",
        "\n",
        "def divide(n1, n2):\n",
        "  return n1 / n2\n",
        "\n",
        "operations = {'+': add, '-': subtract,'*': multiply,'/': divide,}\n",
        "\n",
        "num1 = float(input(\"What is the first number?: \"))\n",
        "run = True\n",
        "while run:\n",
        "  for e in operations:\n",
        "    print(e)\n",
        "  perform = input(\"Type a math operation: \")\n",
        "  num2 = float(input(\"What is the next number?: \"))\n",
        "\n",
        "  calculation = operations[perform]\n",
        "  answer = calculation(num1, num2)\n",
        "\n",
        "  print(f\"{num1} {perform} {num2} = {answer}\")\n",
        "  print(f\"Type 'y' to continue calculating with {answer}, type 'n' to exit or type 'new' for a brand new calculation\")\n",
        "  continue_calc = input(\"Type y/n/new: \")\n",
        "  if continue_calc == 'y':\n",
        "    run = True\n",
        "    num1 = answer\n",
        "  elif continue_calc == 'n':\n",
        "    run = False\n",
        "    print(\"\\nGoodbye.\")\n",
        "  elif continue_calc == 'new':\n",
        "    calculator()\n",
        "  else:\n",
        "    print(\"Invalid response.\")\n",
        "    run = False\n",
        "    print(\"\\nGoodbye.\")\n",
        "calculator()"
      ]
    }
  ]
}