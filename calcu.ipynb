{
  "nbformat": 4,
  "nbformat_minor": 0,
  "metadata": {
    "colab": {
      "provenance": []
    },
    "kernelspec": {
      "name": "python3",
      "display_name": "Python 3"
    },
    "language_info": {
      "name": "python"
    }
  },
  "cells": [
    {
      "cell_type": "code",
      "execution_count": null,
      "metadata": {
        "id": "AmHc6GRflxOa",
        "colab": {
          "base_uri": "https://localhost:8080/"
        },
        "outputId": "36099099-c045-42fe-cde8-2d21f7b53dfd"
      },
      "outputs": [
        {
          "output_type": "stream",
          "name": "stdout",
          "text": [
            "What is the first number?: 345\n",
            "+\n",
            "-\n",
            "*\n",
            "/\n",
            "Type a math operation: +\n",
            "What is the next number?: 34\n",
            "345.0 + 34.0 = 379.0\n",
            "Type 'y' to continue calculating with 379.0, type 'n' to exit or type 'new' for a brand new calculation\n",
            "Type y/n/new: y\n",
            "+\n",
            "-\n",
            "*\n",
            "/\n",
            "Type a math operation: *\n",
            "What is the next number?: 34\n",
            "379.0 * 34.0 = 12886.0\n",
            "Type 'y' to continue calculating with 12886.0, type 'n' to exit or type 'new' for a brand new calculation\n"
          ]
        }
      ],
      "source": [
        "def add(n1, n2):\n",
        "  return n1 + n2\n",
        "\n",
        "def subtract(n1, n2):\n",
        "  return n1 - n2\n",
        "\n",
        "def multiply(n1, n2):\n",
        "  return n1 * n2\n",
        "\n",
        "def divide(n1, n2):\n",
        "  return n1 / n2\n",
        "\n",
        "operations = {'+': add, '-': subtract,'*': multiply,'/': divide,}\n",
        "\n",
        "num1 = float(input(\"What is the first number?: \"))\n",
        "run = True\n",
        "while run:\n",
        "  for e in operations:\n",
        "    print(e)\n",
        "  perform = input(\"Type a math operation: \")\n",
        "  num2 = float(input(\"What is the next number?: \"))\n",
        "\n",
        "  calculation = operations[perform]\n",
        "  answer = calculation(num1, num2)\n",
        "\n",
        "  print(f\"{num1} {perform} {num2} = {answer}\")\n",
        "  print(f\"Type 'y' to continue calculating with {answer}, type 'n' to exit or type 'new' for a brand new calculation\")\n",
        "  continue_calc = input(\"Type y/n/new: \")\n",
        "  if continue_calc == 'y':\n",
        "    run = True\n",
        "    num1 = answer\n",
        "  elif continue_calc == 'n':\n",
        "    run = False\n",
        "    print(\"\\nGoodbye.\")\n",
        "  elif continue_calc == 'new':\n",
        "    calculator()\n",
        "  else:\n",
        "    print(\"Invalid response.\")\n",
        "    run = False\n",
        "    print(\"\\nGoodbye.\")\n",
        "calculator()"
      ]
    }
  ]
}