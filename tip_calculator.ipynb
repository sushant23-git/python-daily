{
  "nbformat": 4,
  "nbformat_minor": 0,
  "metadata": {
    "colab": {
      "provenance": []
    },
    "kernelspec": {
      "name": "python3",
      "display_name": "Python 3"
    },
    "language_info": {
      "name": "python"
    }
  },
  "cells": [
    {
      "cell_type": "code",
      "execution_count": 33,
      "metadata": {
        "colab": {
          "base_uri": "https://localhost:8080/"
        },
        "id": "LGia40OI4uzB",
        "outputId": "ca708395-e8d8-4626-d497-ad92f6f29883"
      },
      "outputs": [
        {
          "output_type": "stream",
          "name": "stdout",
          "text": [
            " Welcome to the tip calculator.\n",
            "what was the total bill?125.56\n",
            "What percentage tip would you l like to give? 10,12, or 15? :12\n",
            "How many people to split the bill? 7\n",
            "Each person should pay : $20.09\n"
          ]
        }
      ],
      "source": [
        "print(\" Welcome to the tip calculator.\")\n",
        "total_bill=input(\"what was the total bill?\")\n",
        "float_bil=float(total_bill)\n",
        "per=input(\"What percentage tip would you l like to give? 10,12, or 15? :\")\n",
        "percentage=float(per)\n",
        "num=input(\"How many people to split the bill? \")\n",
        "num_p=int(num)\n",
        "tip_bill=(float_bil*percentage/100)+ float_bil\n",
        "each=round(tip_bill/num_p,2)\n",
        "\n",
        "print(f\"Each person should pay : ${each}\")"
      ]
    }
  ]
}