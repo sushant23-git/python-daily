{
  "nbformat": 4,
  "nbformat_minor": 0,
  "metadata": {
    "colab": {
      "provenance": []
    },
    "kernelspec": {
      "name": "python3",
      "display_name": "Python 3"
    },
    "language_info": {
      "name": "python"
    }
  },
  "cells": [
    {
      "cell_type": "code",
      "execution_count": 25,
      "metadata": {
        "colab": {
          "base_uri": "https://localhost:8080/"
        },
        "id": "LGia40OI4uzB",
        "outputId": "126d4f4b-0ada-4229-b0c0-d85ccb80d28c"
      },
      "outputs": [
        {
          "output_type": "stream",
          "name": "stdout",
          "text": [
            "enter your age :56\n",
            "You have 12410 days, 1768 weeks , and 408 mopnths left.\n"
          ]
        }
      ],
      "source": [
        "age=input(\"enter your age :\")\n",
        "days=(90*365)-(int(age)*365)\n",
        "weeks=(90*52)-(int(age)*52)\n",
        "months=(90*12)-(int(age)*12)\n",
        "\n",
        "print(f\"You have {days} days, {weeks} weeks , and {months} mopnths left. \")"
      ]
    }
  ]
}