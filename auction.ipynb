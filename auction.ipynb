{
  "nbformat": 4,
  "nbformat_minor": 0,
  "metadata": {
    "colab": {
      "provenance": []
    },
    "kernelspec": {
      "name": "python3",
      "display_name": "Python 3"
    },
    "language_info": {
      "name": "python"
    }
  },
  "cells": [
    {
      "cell_type": "code",
      "execution_count": 4,
      "metadata": {
        "id": "AmHc6GRflxOa",
        "colab": {
          "base_uri": "https://localhost:8080/"
        },
        "outputId": "57219864-6fbd-41af-cc2a-7c4a3157ac82"
      },
      "outputs": [
        {
          "output_type": "stream",
          "name": "stdout",
          "text": [
            "What is your name?: sushant\n",
            "what is your bid amount$$? 56\n",
            "Is there anyone else who wants to bid? (yes or no): yes\n",
            "What is your name?: 75\n",
            "what is your bid amount$$? 8675\n",
            "Is there anyone else who wants to bid? (yes or no): no\n",
            "Congratulations 75! You won the auction.\n"
          ]
        }
      ],
      "source": [
        "import os\n",
        "\n",
        "bid_repeat = True\n",
        "while bid_repeat:\n",
        "    user_name = input(\"What is your name?: \")\n",
        "    user_bid = int(input(\"what is your bid amount$$? \"))\n",
        "\n",
        "    bid_dict = {}\n",
        "\n",
        "    bid_dict[user_name] = user_bid\n",
        "\n",
        "    user_ask = input(\"Is there anyone else who wants to bid? (yes or no): \")\n",
        "\n",
        "    if user_ask == \"yes\":\n",
        "        bid_repeat = True\n",
        "        os.system('clear' if os.name == 'posix' else 'cls')\n",
        "    else:\n",
        "        bid_repeat = False\n",
        "        high_amount = 0\n",
        "        highest_bidder = None\n",
        "        for bidder, bid_amount in bid_dict.items():\n",
        "            if bid_amount > high_amount:\n",
        "                high_amount = bid_amount\n",
        "                highest_bidder = bidder\n",
        "\n",
        "        if highest_bidder is not None:\n",
        "            print(f\"Congratulations {highest_bidder}! You won the auction.\")\n",
        "        else:\n",
        "            print(\"Better luck next time.\")\n"
      ]
    }
  ]
}