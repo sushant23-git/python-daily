{
  "nbformat": 4,
  "nbformat_minor": 0,
  "metadata": {
    "colab": {
      "provenance": []
    },
    "kernelspec": {
      "name": "python3",
      "display_name": "Python 3"
    },
    "language_info": {
      "name": "python"
    }
  },
  "cells": [
    {
      "cell_type": "code",
      "source": [
        "print(\"Welcomr to thr rolloercoaster!\")\n",
        "height = int(input(\"What is your height in cm?\"))\n",
        "\n",
        "if height > 120:\n",
        "  print(\"you can ride the rollercoaster!\")\n",
        "else:\n",
        "  print(\"Sorry, you have to grow taller before you can ride\")"
      ],
      "metadata": {
        "colab": {
          "base_uri": "https://localhost:8080/"
        },
        "id": "oFPaq4RkXcBM",
        "outputId": "3cb8236a-8bab-4a99-d40f-92e1c75ff2ef"
      },
      "execution_count": 1,
      "outputs": [
        {
          "output_type": "stream",
          "name": "stdout",
          "text": [
            "Welcomr to thr rolloercoaster!\n",
            "What is your height in cm?186\n",
            "you can ride the rollercoaster!\n"
          ]
        }
      ]
    },
    {
      "cell_type": "code",
      "source": [
        "num= int(input(\"Which number do you want to check :\"))\n",
        "if num%2==0:\n",
        "  print(f\"{num} is an even number.\")\n",
        "else:\n",
        "  print(f\"{num} is an odd number\")"
      ],
      "metadata": {
        "colab": {
          "base_uri": "https://localhost:8080/"
        },
        "id": "G4yh1uoQbTkR",
        "outputId": "e6a63adf-02f0-4367-8000-47975843d605"
      },
      "execution_count": 5,
      "outputs": [
        {
          "output_type": "stream",
          "name": "stdout",
          "text": [
            "Which number do you want to check :763\n",
            "763 is an odd number\n"
          ]
        }
      ]
    },
    {
      "cell_type": "code",
      "source": [
        "print(\"Welcomr to thr rolloercoaster!\")\n",
        "height = int(input(\"What is your height in cm?\"))\n",
        "\n",
        "if height > 120:\n",
        "  print(\"you can ride the rollercoaster!\")\n",
        "  age= int(input(\"Enter your age :\"))\n",
        "  if age<12:\n",
        "    print(\" the ticket will be $5\")\n",
        "  elif age>= 12 | age<=18:\n",
        "    print(\"the ticket will be $7\")\n",
        "  else:\n",
        "    print(\"the ticket will be $12\")\n",
        "\n",
        "else:\n",
        "  print(\"Sorry, you have to grow taller before you can ride\")"
      ],
      "metadata": {
        "colab": {
          "base_uri": "https://localhost:8080/"
        },
        "outputId": "5fc3cc24-f5bd-4926-ed59-518c7cc7e2d9",
        "id": "w8jZRSIVcND0"
      },
      "execution_count": 11,
      "outputs": [
        {
          "output_type": "stream",
          "name": "stdout",
          "text": [
            "Welcomr to thr rolloercoaster!\n",
            "What is your height in cm?187\n",
            "you can ride the rollercoaster!\n",
            "Enter your age :15\n",
            "the ticket will be $7\n"
          ]
        }
      ]
    },
    {
      "cell_type": "code",
      "source": [
        "height = float(input(\"Enter your height in m:\"))\n",
        "weight = float(input(\"Enter your weight in kg:\"))\n",
        "\n",
        "bmi=round(weight/ height*height)\n",
        "if bmi<18.5:\n",
        "  print(f\"Your bmi is {bmi}, you are underweight\")\n",
        "elif bmi<25:\n",
        "  print(f\"Your bmi is {bmi}, you have a normal weight\")\n",
        "elif bmi<30:\n",
        "  print(f\"Your bmi is {bmi}, you are overweight\")\n",
        "elif bmi<35:\n",
        "  print(f\"Your bmi is {bmi}, you are obese\")\n",
        "else:\n",
        "  print(f\"your bmi is {bmi}, you are clinically obese.\")"
      ],
      "metadata": {
        "colab": {
          "base_uri": "https://localhost:8080/"
        },
        "id": "lOZp1TdMekTE",
        "outputId": "a7884e78-e2e3-4c32-c9d1-9c97d25de59f"
      },
      "execution_count": 13,
      "outputs": [
        {
          "output_type": "stream",
          "name": "stdout",
          "text": [
            "Enter your height in m:187\n",
            "Enter your weight in kg:79\n",
            "your bmi is 79, you are clinically obese.\n"
          ]
        }
      ]
    },
    {
      "cell_type": "code",
      "source": [
        "year= int(input(\" enter the year you want to check:\"))\n",
        "if year%4==0:\n",
        "  if year%400==0:\n",
        "    print(f\"{year} is an leap year\")\n",
        "  elif year%100==0:\n",
        "    print(f\"{year}  is not an leap year\")\n",
        "else:\n",
        "  print(f\"{year} is not a leap year\")"
      ],
      "metadata": {
        "colab": {
          "base_uri": "https://localhost:8080/"
        },
        "id": "Uvu1dtOypDJr",
        "outputId": "f1b9c9f8-0e6a-40f5-ab2e-f3d392b4bd86"
      },
      "execution_count": 18,
      "outputs": [
        {
          "output_type": "stream",
          "name": "stdout",
          "text": [
            " enter the year you want to check:2400\n",
            "2400 is an leap year\n"
          ]
        }
      ]
    },
    {
      "cell_type": "code",
      "source": [
        "print(\"Welcomr to thr rolloercoaster!\")\n",
        "height = int(input(\"What is your height in cm?\"))\n",
        "\n",
        "if height > 120:\n",
        "  print(\"you can ride the rollercoaster!\")\n",
        "  age= int(input(\"Enter your age :\"))\n",
        "  if age<12:\n",
        "    bill=5\n",
        "    print(\" the ticket will be $5\")\n",
        "  elif age>= 12 | age<=18:\n",
        "    bill=7\n",
        "    print(\"the ticket will be $7\")\n",
        "  else:\n",
        "    bill=12\n",
        "    print(\"the ticket will be $12\")\n",
        "\n",
        "  photo=input(\"Do you want a photo taken?Y or N,\")\n",
        "  if photo==\"Y\":\n",
        "    bill=bill+3\n",
        "    print(f\"the total bill is {bill}\")\n",
        "\n",
        "else:\n",
        "  print(\"Sorry, you have to grow taller before you can ride\")"
      ],
      "metadata": {
        "colab": {
          "base_uri": "https://localhost:8080/"
        },
        "outputId": "27646ece-efb6-4355-8c77-88fcab8f7cc2",
        "id": "eO2fK8GqutlN"
      },
      "execution_count": 22,
      "outputs": [
        {
          "output_type": "stream",
          "name": "stdout",
          "text": [
            "Welcomr to thr rolloercoaster!\n",
            "What is your height in cm?189\n",
            "you can ride the rollercoaster!\n",
            "Enter your age :19\n",
            "the ticket will be $12\n",
            "Do you want a photo taken?Y or N,Y\n",
            "the total bill is 15\n"
          ]
        }
      ]
    },
    {
      "cell_type": "code",
      "source": [
        "print(\"Welcome to love calculator!\")\n",
        "name1=input(\"whjat is your name? \\n\")\n",
        "name2=input(\"What is their name? \\n\")\n",
        "\n",
        "together = name1+name2\n",
        "\n",
        "low_case= together.lower()\n",
        "\n",
        "t= low_case.count(\"t\")\n",
        "r= low_case.count(\"r\")\n",
        "u= low_case.count(\"u\")\n",
        "e= low_case.count(\"e\")\n",
        "\n",
        "true=t+r+u+e\n",
        "\n",
        "l= low_case.count(\"l\")\n",
        "o= low_case.count(\"o\")\n",
        "v= low_case.count(\"v\")\n",
        "e= low_case.count(\"e\")\n",
        "\n",
        "love=l+o+v+e\n",
        "\n",
        "score = str(true) + str(love)\n",
        "score=int(score)\n",
        "if score<10 or score>90:\n",
        "  print(f\"Your score is {score}, you go together like coke and mentos.\")\n",
        "if score>40 and score<50:\n",
        "  print(f\"Your score is {score}, you are alright together\")\n",
        "else:\n",
        "  print(f\"Your score is {score}\")\n",
        "\n"
      ],
      "metadata": {
        "colab": {
          "base_uri": "https://localhost:8080/"
        },
        "id": "XnUfCesivpKp",
        "outputId": "8349dad6-1d7f-4a13-9430-ad06ec9973b4"
      },
      "execution_count": 31,
      "outputs": [
        {
          "output_type": "stream",
          "name": "stdout",
          "text": [
            "Welcome to love calculator!\n",
            "whjat is your name? \n",
            "sourav\n",
            "What is their name? \n",
            "vasundhara\n",
            "Your score is 43, you are alright together\n"
          ]
        }
      ]
    },
    {
      "cell_type": "markdown",
      "source": [],
      "metadata": {
        "id": "1g8Hchw7hkQe"
      }
    }
  ]
}