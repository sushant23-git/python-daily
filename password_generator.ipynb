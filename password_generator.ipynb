{
  "nbformat": 4,
  "nbformat_minor": 0,
  "metadata": {
    "colab": {
      "provenance": []
    },
    "kernelspec": {
      "name": "python3",
      "display_name": "Python 3"
    },
    "language_info": {
      "name": "python"
    }
  },
  "cells": [
    {
      "cell_type": "code",
      "source": [
        "import random\n",
        "letters = ['a', 'b', 'c', 'd', 'e', 'f', 'g', 'h', 'i', 'j', 'k', 'l', 'm', 'n', 'o', 'p', 'q', 'r', 's', 't', 'u', 'v', 'w', 'x', 'y', 'z', 'A', 'B', 'C', 'D', 'E', 'F', 'G', 'H', 'I', 'J', 'K', 'L', 'M', 'N', 'O', 'P', 'Q', 'R', 'S', 'T', 'U', 'V', 'W', 'X', 'Y', 'Z']\n",
        "numbers = ['0', '1', '2', '3', '4', '5', '6', '7', '8', '9']\n",
        "symbols = ['!', '#', '$', '%', '&', '(', ')', '*', '+']\n",
        "\n",
        "print(\"Welcome to the Password Generator!\")\n",
        "no_letters= int(input(\"How many letters would you like in your password?\\n\"))\n",
        "no_symbols = int(input(f\"How many symbols would you like?\\n\"))\n",
        "no_numbers = int(input(f\"How many numbers would you like?\\n\"))\n",
        "\n",
        "password=\"\"\n",
        "for i in range(no_letters):\n",
        "  password += random.choice(letters)\n",
        "for i in range(no_symbols):\n",
        "  password += random.choice(symbols)\n",
        "for i in range(no_numbers):\n",
        "  password += random.choice(numbers)\n",
        "\n",
        "print(password)\n"
      ],
      "metadata": {
        "colab": {
          "base_uri": "https://localhost:8080/"
        },
        "id": "GiLvvPeJ7mdY",
        "outputId": "c2dbba90-06de-44b6-f4cb-c0a70e0a17d7"
      },
      "execution_count": 17,
      "outputs": [
        {
          "output_type": "stream",
          "name": "stdout",
          "text": [
            "Welcome to the Password Generator!\n",
            "How many letters would you like in your password?\n",
            "12\n",
            "How many symbols would you like?\n",
            "3\n",
            "How many numbers would you like?\n",
            "4\n",
            "qYWoTEdjLdrM+*(3430\n"
          ]
        }
      ]
    }
  ]
}